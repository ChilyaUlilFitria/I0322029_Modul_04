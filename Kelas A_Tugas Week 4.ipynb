{
 "cells": [
  {
   "cell_type": "code",
   "execution_count": 1,
   "metadata": {},
   "outputs": [
    {
     "name": "stdout",
     "output_type": "stream",
     "text": [
      "Chilya Ulil Fitria\n",
      "I0322029\n",
      "A\n"
     ]
    }
   ],
   "source": [
    "print(input(\"Nama: \"))\n",
    "print(input(\"NIM: \"))\n",
    "print(input(\"Kelas: \"))"
   ]
  },
  {
   "attachments": {},
   "cell_type": "markdown",
   "metadata": {},
   "source": [
    "## 1."
   ]
  },
  {
   "attachments": {},
   "cell_type": "markdown",
   "metadata": {},
   "source": [
    "Buatlah program persyaratan pembuatan SIM dengan input yaitu nama user, umur user, dan nilai tes user.<br>\n",
    "Dengan ketentuan mendapat SIM sebagai berikut:\n",
    "* Umur dari user harus lebih dari sama dengan 17 tahun\n",
    "* Nilai tes lebih dari sama dengan 70\n",
    "\n",
    "<br>Output yang dihasilkan dari program adalah:\n",
    "<br>\"Selamat Anda Berhak Mendapatkan SIM Anda\"\n",
    "<br>\"Maaf, Anda tidak berhak mendapatkan SIM anda\"\n",
    "> *note: Kerjakan soal ini dengan percabangan*"
   ]
  },
  {
   "cell_type": "code",
   "execution_count": 16,
   "metadata": {},
   "outputs": [
    {
     "name": "stdout",
     "output_type": "stream",
     "text": [
      "Maaf, Anda tidak berhak mendapatkan SIM Anda\n"
     ]
    }
   ],
   "source": [
    "# Kerjakan soal no 1 di sini\n",
    "Nama = input(\"Nama : \")\n",
    "Umur = (int(input(\"Umur : \")))\n",
    "Nilai = (int(input(\"Nilai Tes : \")))\n",
    "\n",
    "if Umur >= 17:\n",
    "    if Nilai >= 70:\n",
    "       print(\"Selamat Anda Berhak mendapatkan SIM Anda\")\n",
    "else:\n",
    "    print(\"Maaf, Anda tidak berhak mendapatkan SIM Anda\")"
   ]
  },
  {
   "attachments": {},
   "cell_type": "markdown",
   "metadata": {},
   "source": [
    "## 2."
   ]
  },
  {
   "attachments": {},
   "cell_type": "markdown",
   "metadata": {},
   "source": [
    "Buatlah program untuk mencari bilangan terbesar yang diinput dari user.<br>\n",
    "<br>Dengan ketentuan sebagai berikut:\n",
    "* Program nenerima 3 input bilangan dari user\n",
    "* Program akan menentukan mana bilangan terbesar\n",
    "* Output yang akan dihasilkan misalnya adalah \"Dari bil_1, bil_2, dan bil_3, bilangan terbesarnya adalah bilangan bil_2\"\n",
    "> *note: Kerjakan soal ini dengan percabangan*"
   ]
  },
  {
   "cell_type": "code",
   "execution_count": 17,
   "metadata": {},
   "outputs": [
    {
     "name": "stdout",
     "output_type": "stream",
     "text": [
      "Dari bil_1, bil_2, dan bil_3, bilangan terbesarnya adalah bilangan bil_1\n"
     ]
    }
   ],
   "source": [
    "# Kerjakan soal nomor 2 disini\n",
    "bil_1 = int(input(\"Masukkan bilangan 1 : \"))\n",
    "bil_2 = int(input(\"Masukkan bilangan 2 : \"))\n",
    "bil_3 = int(input(\"Masukkan bilangan 3 : \"))\n",
    "\n",
    "if bil_1>bil_2:\n",
    "    if bil_1>bil_3:\n",
    "        print(\"Dari bil_1, bil_2, dan bil_3, bilangan terbesarnya adalah bilangan bil_1\")\n",
    "elif bil_2>bil_1:\n",
    "    if bil_2>bil_3:\n",
    "        print(\"Dari bil_1, bil_2, dan bil_3, bilangan terbesarnya adalah bilangan bil_2\")\n",
    "else:\n",
    "    print(\"Dari bil_1, bil_2, dan bil_3, bilangan terbesarnya adalah bilangan bil_3\")"
   ]
  }
 ],
 "metadata": {
  "kernelspec": {
   "display_name": "Python 3",
   "language": "python",
   "name": "python3"
  },
  "language_info": {
   "codemirror_mode": {
    "name": "ipython",
    "version": 3
   },
   "file_extension": ".py",
   "mimetype": "text/x-python",
   "name": "python",
   "nbconvert_exporter": "python",
   "pygments_lexer": "ipython3",
   "version": "3.10.8"
  },
  "orig_nbformat": 4,
  "vscode": {
   "interpreter": {
    "hash": "cb77265a1f3dac9648fbc6e72ffc92b83a7e31a4a06dcb48baa9ffd87da90d4a"
   }
  }
 },
 "nbformat": 4,
 "nbformat_minor": 2
}
